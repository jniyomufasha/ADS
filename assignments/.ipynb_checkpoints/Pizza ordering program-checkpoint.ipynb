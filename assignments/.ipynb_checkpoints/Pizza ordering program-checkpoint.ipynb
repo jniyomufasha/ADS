{
 "cells": [
  {
   "cell_type": "code",
   "execution_count": 15,
   "id": "0f058fcb",
   "metadata": {},
   "outputs": [
    {
     "name": "stdout",
     "output_type": "stream",
     "text": [
      "Welcome to Dodo Pizza\n",
      "\n",
      "Choose pizza size \n",
      "1 - small \n",
      "2 - medium \n",
      "3 - large \n",
      "2\n",
      "Would you like a pepperoni topping? [y/n]y\n",
      "Do you want extra cheese? [y/n]y\n",
      "Your pizza order costs $24\n"
     ]
    }
   ],
   "source": [
    "print('Welcome to Dodo Pizza\\n')\n",
    "size_number = int(input('Choose pizza size \\n1 - small \\n2 - medium \\n3 - large \\n'))\n",
    "\n",
    "if size_number == 1:\n",
    "    size = 'small'\n",
    "    price = 15\n",
    "elif size_number == 2:\n",
    "    size = 'medium'\n",
    "    price = 20\n",
    "elif size_number == 3:\n",
    "    size = 'large'\n",
    "    price = 25\n",
    "else:\n",
    "    raise ValueError('Enter a valid input')\n",
    "\n",
    "pepperoni_y_n = input('Would you like a pepperoni topping? [y/n]')\n",
    "if pepperoni_y_n.lower() == 'y':\n",
    "    if size == 'small':\n",
    "        price += 2\n",
    "    else:\n",
    "        price += 3\n",
    "elif pepperoni_y_n.lower() == 'n':\n",
    "    pass\n",
    "else:\n",
    "    raise ValueError('Enter a valid input')\n",
    "\n",
    "cheese_y_n = input('Do you want extra cheese? [y/n]')\n",
    "if cheese_y_n.lower() == 'y':\n",
    "    price += 1\n",
    "elif cheese_y_n.lower() == 'n':\n",
    "    pass\n",
    "else:\n",
    "    raise ValueError('Enter a valid input')\n",
    "\n",
    "print(f'Your pizza order costs ${price}')"
   ]
  }
 ],
 "metadata": {
  "kernelspec": {
   "display_name": "Python 3 (ipykernel)",
   "language": "python",
   "name": "python3"
  },
  "language_info": {
   "codemirror_mode": {
    "name": "ipython",
    "version": 3
   },
   "file_extension": ".py",
   "mimetype": "text/x-python",
   "name": "python",
   "nbconvert_exporter": "python",
   "pygments_lexer": "ipython3",
   "version": "3.9.2"
  }
 },
 "nbformat": 4,
 "nbformat_minor": 5
}
