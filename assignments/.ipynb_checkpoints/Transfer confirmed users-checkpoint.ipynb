{
 "cells": [
  {
   "cell_type": "code",
   "execution_count": 5,
   "id": "ffd72c14",
   "metadata": {},
   "outputs": [
    {
     "name": "stdout",
     "output_type": "stream",
     "text": [
      "Confirmed users are: ['Mercy', 'Ryu', 'Morgan', 'Sergey', 'Evgeny']\n",
      "Unconfirmed users are: ['Paul', 'Sean', 'Meghan', 'Aleksey']\n"
     ]
    }
   ],
   "source": [
    "from random import randint\n",
    "unconfirmed = ['Mercy', 'Paul', 'Ryu', 'Sean', 'Morgan', 'Meghan', 'Sergey', 'Aleksey', 'Evgeny']\n",
    "confirmed = []\n",
    "\n",
    "for user in unconfirmed:\n",
    "    is_confirmed = randint(0,1)\n",
    "    if is_confirmed == 1:\n",
    "        unconfirmed.remove(user)\n",
    "        confirmed.append(user)\n",
    "print('Confirmed users are:', confirmed)\n",
    "print('Unconfirmed users are:', unconfirmed)"
   ]
  }
 ],
 "metadata": {
  "kernelspec": {
   "display_name": "Python 3 (ipykernel)",
   "language": "python",
   "name": "python3"
  },
  "language_info": {
   "codemirror_mode": {
    "name": "ipython",
    "version": 3
   },
   "file_extension": ".py",
   "mimetype": "text/x-python",
   "name": "python",
   "nbconvert_exporter": "python",
   "pygments_lexer": "ipython3",
   "version": "3.9.2"
  }
 },
 "nbformat": 4,
 "nbformat_minor": 5
}
