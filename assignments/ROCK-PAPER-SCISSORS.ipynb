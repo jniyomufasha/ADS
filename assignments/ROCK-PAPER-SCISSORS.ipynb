{
 "cells": [
  {
   "cell_type": "code",
   "execution_count": 16,
   "id": "4c4ad6a6",
   "metadata": {},
   "outputs": [
    {
     "name": "stdout",
     "output_type": "stream",
     "text": [
      "Welcome to ROCK-PAPER-SCISSORS game\n",
      "\n",
      "\n",
      "Choose item \n",
      "1 - Paper\n",
      "2 - Rock\n",
      "3 - Scissors3\n",
      "Player: Scissors\n",
      "Computer: Rock\n",
      "Computer wins\n"
     ]
    }
   ],
   "source": [
    "from random import randint\n",
    "print('Welcome to ROCK-PAPER-SCISSORS game\\n\\n')\n",
    "\n",
    "def get_item_from_number(number):\n",
    "    if number == 1:\n",
    "        return 'Paper'\n",
    "    elif number == 2:\n",
    "        return 'Rock'\n",
    "    elif number == 3:\n",
    "        return 'Scissors'\n",
    "    else:\n",
    "        raise ValueError('Enter a valid input')\n",
    "        \n",
    "player_number = int(input('Choose item \\n1 - Paper\\n2 - Rock\\n3 - Scissors'))\n",
    "player_item = get_item_from_number(player_number)\n",
    "comp_number = randint(1,3)\n",
    "comp_item = get_item_from_number(comp_number)\n",
    "print(f'Player: {player_item}')\n",
    "print(f'Computer: {comp_item}')\n",
    "if player_item == comp_item:\n",
    "    print('Draw')\n",
    "else:\n",
    "    if player_item == 'Paper':\n",
    "        if comp_item == 'Rock':\n",
    "            print('Player wins')\n",
    "        else:\n",
    "            print('Computer wins')\n",
    "    elif player_item == 'Rock':\n",
    "        if comp_item == 'Scissors':\n",
    "            print('Player wins')\n",
    "        else:\n",
    "            print('Computer wins')\n",
    "    elif player_item == 'Scissors':\n",
    "        if comp_item == 'Paper':\n",
    "            print('Player wins')\n",
    "        else:\n",
    "            print('Computer wins')"
   ]
  }
 ],
 "metadata": {
  "kernelspec": {
   "display_name": "Python 3 (ipykernel)",
   "language": "python",
   "name": "python3"
  },
  "language_info": {
   "codemirror_mode": {
    "name": "ipython",
    "version": 3
   },
   "file_extension": ".py",
   "mimetype": "text/x-python",
   "name": "python",
   "nbconvert_exporter": "python",
   "pygments_lexer": "ipython3",
   "version": "3.9.2"
  }
 },
 "nbformat": 4,
 "nbformat_minor": 5
}
