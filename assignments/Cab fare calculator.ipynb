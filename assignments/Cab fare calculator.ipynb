{
 "cells": [
  {
   "cell_type": "code",
   "execution_count": 6,
   "id": "9b121543",
   "metadata": {},
   "outputs": [
    {
     "name": "stdout",
     "output_type": "stream",
     "text": [
      "Distance covered in km:65\n",
      "Time taken in minutes:34\n",
      "What percentage tip would you like to give? 0, 5, 10?:5\n",
      "\n",
      "\n",
      "Your fare is Kes 2091\n",
      "Thank you for riding with us.\n"
     ]
    }
   ],
   "source": [
    "dist = int(input('Distance covered in km:'))\n",
    "time = int(input('Time taken in minutes:'))\n",
    "tip = int(input('What percentage tip would you like to give? 0, 5, 10?:'))\n",
    "fare = 100+(dist*27)+(time*4)\n",
    "tip = fare*tip/100\n",
    "print(f'\\n\\nYour fare is Kes {round(fare+tip)}')\n",
    "print('Thank you for riding with us.')"
   ]
  }
 ],
 "metadata": {
  "kernelspec": {
   "display_name": "Python 3 (ipykernel)",
   "language": "python",
   "name": "python3"
  },
  "language_info": {
   "codemirror_mode": {
    "name": "ipython",
    "version": 3
   },
   "file_extension": ".py",
   "mimetype": "text/x-python",
   "name": "python",
   "nbconvert_exporter": "python",
   "pygments_lexer": "ipython3",
   "version": "3.9.2"
  }
 },
 "nbformat": 4,
 "nbformat_minor": 5
}
