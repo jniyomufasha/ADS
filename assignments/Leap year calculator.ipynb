{
 "cells": [
  {
   "cell_type": "code",
   "execution_count": 8,
   "id": "0cd0417e",
   "metadata": {},
   "outputs": [
    {
     "name": "stdout",
     "output_type": "stream",
     "text": [
      "Enter the year to check for1600\n",
      "1600 is a leap year\n"
     ]
    }
   ],
   "source": [
    "year = int(input('Enter the year to check for'))\n",
    "\n",
    "if year%4 != 0:\n",
    "    print(f'{year} is not a leap year')\n",
    "else:\n",
    "    if year%100 != 0:\n",
    "        print(f'{year} is a leap year')\n",
    "    else:\n",
    "        if year%400 != 0:\n",
    "            print(f'{year} is not a leap year')\n",
    "        else:\n",
    "            print(f'{year} is a leap year')"
   ]
  }
 ],
 "metadata": {
  "kernelspec": {
   "display_name": "Python 3 (ipykernel)",
   "language": "python",
   "name": "python3"
  },
  "language_info": {
   "codemirror_mode": {
    "name": "ipython",
    "version": 3
   },
   "file_extension": ".py",
   "mimetype": "text/x-python",
   "name": "python",
   "nbconvert_exporter": "python",
   "pygments_lexer": "ipython3",
   "version": "3.9.2"
  }
 },
 "nbformat": 4,
 "nbformat_minor": 5
}
